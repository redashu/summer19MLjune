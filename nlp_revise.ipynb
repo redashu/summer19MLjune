{
 "cells": [
  {
   "cell_type": "code",
   "execution_count": 1,
   "metadata": {},
   "outputs": [],
   "source": [
    "from   nltk.tokenize   import  sent_tokenize,word_tokenize\n",
    "from  nltk.stem   import  PorterStemmer,WordNetLemmatizer\n",
    "from   nltk.corpus  import  stopwords"
   ]
  },
  {
   "cell_type": "code",
   "execution_count": 2,
   "metadata": {},
   "outputs": [],
   "source": [
    "data=\"hello world i am going out side for playing cricket\""
   ]
  },
  {
   "cell_type": "code",
   "execution_count": 3,
   "metadata": {},
   "outputs": [],
   "source": [
    "#  word tokenize \n",
    "tdata=word_tokenize(data)"
   ]
  },
  {
   "cell_type": "code",
   "execution_count": 7,
   "metadata": {},
   "outputs": [
    {
     "data": {
      "text/plain": [
       "['hello',\n",
       " 'world',\n",
       " 'i',\n",
       " 'am',\n",
       " 'going',\n",
       " 'out',\n",
       " 'side',\n",
       " 'for',\n",
       " 'playing',\n",
       " 'cricket']"
      ]
     },
     "execution_count": 7,
     "metadata": {},
     "output_type": "execute_result"
    }
   ],
   "source": [
    "tdata"
   ]
  },
  {
   "cell_type": "code",
   "execution_count": 8,
   "metadata": {},
   "outputs": [],
   "source": [
    "#  remove  stopwords\n",
    "removedata=[i for i  in  tdata if  i.lower() not in  stopwords.words('english')]"
   ]
  },
  {
   "cell_type": "code",
   "execution_count": 9,
   "metadata": {},
   "outputs": [
    {
     "data": {
      "text/plain": [
       "['hello', 'world', 'going', 'side', 'playing', 'cricket']"
      ]
     },
     "execution_count": 9,
     "metadata": {},
     "output_type": "execute_result"
    }
   ],
   "source": [
    "removedata"
   ]
  },
  {
   "cell_type": "code",
   "execution_count": 12,
   "metadata": {},
   "outputs": [
    {
     "name": "stdout",
     "output_type": "stream",
     "text": [
      "hello  stemmed into ..> hello\n",
      "world  stemmed into ..> world\n",
      "going  stemmed into ..> go\n",
      "side  stemmed into ..> side\n",
      "playing  stemmed into ..> play\n",
      "cricket  stemmed into ..> cricket\n"
     ]
    }
   ],
   "source": [
    "#  stemming  \n",
    "pt=PorterStemmer()\n",
    "for  i  in  removedata:\n",
    "    print(i , \" stemmed into ..>\",pt.stem(i))"
   ]
  },
  {
   "cell_type": "code",
   "execution_count": 13,
   "metadata": {},
   "outputs": [
    {
     "name": "stdout",
     "output_type": "stream",
     "text": [
      "hello\n",
      "world\n",
      "going\n",
      "side\n",
      "playing\n",
      "cricket\n"
     ]
    }
   ],
   "source": [
    "#  lemma\n",
    "wl=WordNetLemmatizer()\n",
    "for  i  in  removedata:\n",
    "    print(wl.lemmatize(i))"
   ]
  },
  {
   "cell_type": "code",
   "execution_count": 23,
   "metadata": {},
   "outputs": [
    {
     "data": {
      "text/plain": [
       "'love'"
      ]
     },
     "execution_count": 23,
     "metadata": {},
     "output_type": "execute_result"
    }
   ],
   "source": [
    "#  data \n",
    "x=\"loving\"\n",
    "#  stemming \n",
    "pt=PorterStemmer()\n",
    "pt.stem(x)"
   ]
  },
  {
   "cell_type": "code",
   "execution_count": 24,
   "metadata": {},
   "outputs": [
    {
     "data": {
      "text/plain": [
       "'loving'"
      ]
     },
     "execution_count": 24,
     "metadata": {},
     "output_type": "execute_result"
    }
   ],
   "source": [
    "#  lemma\n",
    "wl=WordNetLemmatizer()\n",
    "wl.lemmatize(x)"
   ]
  },
  {
   "cell_type": "code",
   "execution_count": null,
   "metadata": {},
   "outputs": [],
   "source": []
  }
 ],
 "metadata": {
  "kernelspec": {
   "display_name": "Python 3",
   "language": "python",
   "name": "python3"
  },
  "language_info": {
   "codemirror_mode": {
    "name": "ipython",
    "version": 3
   },
   "file_extension": ".py",
   "mimetype": "text/x-python",
   "name": "python",
   "nbconvert_exporter": "python",
   "pygments_lexer": "ipython3",
   "version": "3.6.8"
  }
 },
 "nbformat": 4,
 "nbformat_minor": 2
}
